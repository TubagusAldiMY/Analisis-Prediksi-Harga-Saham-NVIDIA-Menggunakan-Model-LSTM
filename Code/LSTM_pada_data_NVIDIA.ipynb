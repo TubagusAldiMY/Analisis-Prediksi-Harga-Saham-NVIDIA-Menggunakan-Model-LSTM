{
  "nbformat": 4,
  "nbformat_minor": 0,
  "metadata": {
    "colab": {
      "provenance": [],
      "gpuType": "T4"
    },
    "kernelspec": {
      "name": "python3",
      "display_name": "Python 3"
    },
    "language_info": {
      "name": "python"
    },
    "accelerator": "GPU"
  },
  "cells": [
    {
      "cell_type": "code",
      "execution_count": 41,
      "metadata": {
        "id": "y-dSUIfA-19n"
      },
      "outputs": [],
      "source": [
        "import numpy as np\n",
        "import pandas as pd\n",
        "from sklearn.preprocessing import MinMaxScaler\n",
        "from keras.models import Sequential\n",
        "from keras.layers import Dense, LSTM\n",
        "import matplotlib.pyplot as plt"
      ]
    },
    {
      "cell_type": "code",
      "source": [
        "# Memuat data dari file CSV\n",
        "file_path = '/content/HistoricalData_1721543882668.csv'  # Sesuaikan dengan path file Anda\n",
        "data = pd.read_csv(file_path)"
      ],
      "metadata": {
        "id": "P8SiYtNa_EGZ"
      },
      "execution_count": 42,
      "outputs": []
    },
    {
      "cell_type": "code",
      "source": [
        "# Menghilangkan simbol $ dan mengkonversi kolom harga menjadi tipe numerik\n",
        "data['Close/Last'] = data['Close/Last'].str.replace('$', '').astype(float)\n",
        "data['Open'] = data['Open'].str.replace('$', '').astype(float)\n",
        "data['High'] = data['High'].str.replace('$', '').astype(float)\n",
        "data['Low'] = data['Low'].str.replace('$', '').astype(float)"
      ],
      "metadata": {
        "id": "_Yl3_JEs_Fi5"
      },
      "execution_count": 43,
      "outputs": []
    },
    {
      "cell_type": "code",
      "source": [
        "# Konversi kolom Date menjadi tipe datetime\n",
        "data['Date'] = pd.to_datetime(data['Date'])"
      ],
      "metadata": {
        "id": "_WidBiir_HGx"
      },
      "execution_count": 44,
      "outputs": []
    },
    {
      "cell_type": "code",
      "source": [
        "# Menyusun data berdasarkan tanggal\n",
        "data = data.sort_values('Date')"
      ],
      "metadata": {
        "id": "VANqLLSU_J9K"
      },
      "execution_count": 45,
      "outputs": []
    },
    {
      "cell_type": "code",
      "source": [
        "# Menggunakan hanya kolom 'Close/Last' untuk prediksi\n",
        "data_close = data[['Date', 'Close/Last']]"
      ],
      "metadata": {
        "id": "pI5Z9XEo_KXp"
      },
      "execution_count": 46,
      "outputs": []
    },
    {
      "cell_type": "code",
      "source": [
        "# Normalisasi data\n",
        "scaler = MinMaxScaler(feature_range=(0, 1))\n",
        "data_close['Close/Last'] = scaler.fit_transform(data_close['Close/Last'].values.reshape(-1, 1))"
      ],
      "metadata": {
        "colab": {
          "base_uri": "https://localhost:8080/"
        },
        "id": "u55wruhK_LqR",
        "outputId": "254bcb51-e12a-4158-f3d2-b4abb0bb8421"
      },
      "execution_count": 47,
      "outputs": [
        {
          "output_type": "stream",
          "name": "stderr",
          "text": [
            "<ipython-input-47-11b38b3b1d8b>:3: SettingWithCopyWarning: \n",
            "A value is trying to be set on a copy of a slice from a DataFrame.\n",
            "Try using .loc[row_indexer,col_indexer] = value instead\n",
            "\n",
            "See the caveats in the documentation: https://pandas.pydata.org/pandas-docs/stable/user_guide/indexing.html#returning-a-view-versus-a-copy\n",
            "  data_close['Close/Last'] = scaler.fit_transform(data_close['Close/Last'].values.reshape(-1, 1))\n"
          ]
        }
      ]
    },
    {
      "cell_type": "code",
      "source": [
        "# Membagi data menjadi data latih dan data uji (80% untuk latih, 20% untuk uji)\n",
        "training_data_len = int(np.ceil(len(data_close) * 0.8))\n",
        "\n",
        "train_data = data_close.iloc[:training_data_len]\n",
        "test_data = data_close.iloc[training_data_len:]"
      ],
      "metadata": {
        "id": "KCvqzVIH_OAC"
      },
      "execution_count": 48,
      "outputs": []
    },
    {
      "cell_type": "code",
      "source": [
        "# Fungsi untuk membuat dataset dalam bentuk urutan untuk LSTM\n",
        "def create_dataset(data, time_step=60):\n",
        "    X, y = [], []\n",
        "    for i in range(len(data) - time_step):\n",
        "        X.append(data[i:(i + time_step)])\n",
        "        y.append(data[i + time_step])\n",
        "    return np.array(X), np.array(y)\n"
      ],
      "metadata": {
        "id": "Wso5ZM-O_Pvo"
      },
      "execution_count": 49,
      "outputs": []
    },
    {
      "cell_type": "code",
      "source": [
        "# Mengkonversi data latih dan uji menjadi array\n",
        "train_data_arr = train_data['Close/Last'].values\n",
        "test_data_arr = test_data['Close/Last'].values"
      ],
      "metadata": {
        "id": "MgExMOOA_ZFh"
      },
      "execution_count": 50,
      "outputs": []
    },
    {
      "cell_type": "code",
      "source": [
        "# Membuat dataset untuk LSTM\n",
        "time_step = 60\n",
        "X_train, y_train = create_dataset(train_data_arr, time_step)\n",
        "X_test, y_test = create_dataset(test_data_arr, time_step)"
      ],
      "metadata": {
        "id": "42l3HgSR_biZ"
      },
      "execution_count": 51,
      "outputs": []
    },
    {
      "cell_type": "code",
      "source": [
        "# Mereshape data ke dalam bentuk yang dapat diterima oleh LSTM [samples, time steps, features]\n",
        "X_train = X_train.reshape(X_train.shape[0], X_train.shape[1], 1)\n",
        "X_test = X_test.reshape(X_test.shape[0], X_test.shape[1], 1)"
      ],
      "metadata": {
        "id": "lYmAPyhQ_b75"
      },
      "execution_count": 52,
      "outputs": []
    },
    {
      "cell_type": "code",
      "source": [
        "# Membangun model LSTM\n",
        "model = Sequential()\n",
        "model.add(LSTM(50, return_sequences=True, input_shape=(time_step, 1)))\n",
        "model.add(LSTM(50, return_sequences=False))\n",
        "model.add(Dense(25))\n",
        "model.add(Dense(1))\n"
      ],
      "metadata": {
        "id": "QogPEuLt_dfo"
      },
      "execution_count": 53,
      "outputs": []
    },
    {
      "cell_type": "code",
      "source": [
        "# Kompilasi model\n",
        "model.compile(optimizer='adam', loss='mean_squared_error')"
      ],
      "metadata": {
        "id": "S-Cas9-e_e-J"
      },
      "execution_count": 54,
      "outputs": []
    },
    {
      "cell_type": "code",
      "source": [
        "# Melatih model\n",
        "model.fit(X_train, y_train, batch_size=1, epochs=1)"
      ],
      "metadata": {
        "colab": {
          "base_uri": "https://localhost:8080/"
        },
        "id": "NmV3Kczd_hPR",
        "outputId": "6feaa237-25f6-4edc-fabb-9e3bf6935854"
      },
      "execution_count": 55,
      "outputs": [
        {
          "output_type": "stream",
          "name": "stdout",
          "text": [
            "1954/1954 [==============================] - 19s 8ms/step - loss: 1.3936e-04\n"
          ]
        },
        {
          "output_type": "execute_result",
          "data": {
            "text/plain": [
              "<keras.src.callbacks.History at 0x7ff656c47ac0>"
            ]
          },
          "metadata": {},
          "execution_count": 55
        }
      ]
    },
    {
      "cell_type": "code",
      "source": [
        "# Membuat prediksi\n",
        "predictions = model.predict(X_test)\n",
        "predictions = scaler.inverse_transform(predictions)"
      ],
      "metadata": {
        "colab": {
          "base_uri": "https://localhost:8080/"
        },
        "id": "NV-CMrVI_ipB",
        "outputId": "3480ae79-4c12-4d1c-84c5-a6cb7d529097"
      },
      "execution_count": 56,
      "outputs": [
        {
          "output_type": "stream",
          "name": "stdout",
          "text": [
            "14/14 [==============================] - 1s 4ms/step\n"
          ]
        }
      ]
    },
    {
      "cell_type": "code",
      "source": [
        "# Mengevaluasi model\n",
        "rmse = np.sqrt(np.mean((predictions - scaler.inverse_transform(y_test.reshape(-1, 1)))**2))\n",
        "print('RMSE:', rmse)"
      ],
      "metadata": {
        "colab": {
          "base_uri": "https://localhost:8080/"
        },
        "id": "wslc7tpL_kK6",
        "outputId": "c991e43c-316d-406f-d75a-83b4ee38a0c5"
      },
      "execution_count": 57,
      "outputs": [
        {
          "output_type": "stream",
          "name": "stdout",
          "text": [
            "RMSE: 2.9166827655240977\n"
          ]
        }
      ]
    },
    {
      "cell_type": "code",
      "source": [
        "# Menampilkan hasil prediksi\n",
        "train = data_close[:training_data_len]\n",
        "valid = data_close[training_data_len:]\n",
        "valid = valid.iloc[time_step:]  # Menyesuaikan panjang data validasi\n",
        "valid['Predictions'] = predictions\n",
        "\n",
        "plt.figure(figsize=(16, 8))\n",
        "plt.title('Model LSTM')\n",
        "plt.xlabel('Date')\n",
        "plt.ylabel('Close Price USD ($)')\n",
        "plt.plot(train['Date'], train['Close/Last'])\n",
        "plt.plot(valid['Date'], valid[['Close/Last', 'Predictions']])\n",
        "plt.legend(['Train', 'Val', 'Predictions'], loc='lower right')\n",
        "plt.show()"
      ],
      "metadata": {
        "colab": {
          "base_uri": "https://localhost:8080/",
          "height": 514
        },
        "id": "ZmfaqnrO_mdx",
        "outputId": "70254bc7-c143-4e50-a733-be3e4c21e1c1"
      },
      "execution_count": 58,
      "outputs": [
        {
          "output_type": "display_data",
          "data": {
            "text/plain": [
              "<Figure size 1600x800 with 1 Axes>"
            ],
            "image/png": "[encoded data removed]"
          },
          "metadata": {}
        }
      ]
    }
  ]
}